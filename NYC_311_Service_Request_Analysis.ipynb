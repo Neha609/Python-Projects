{
  "nbformat": 4,
  "nbformat_minor": 0,
  "metadata": {
    "kernelspec": {
      "display_name": "Python 3",
      "language": "python",
      "name": "python3"
    },
    "language_info": {
      "codemirror_mode": {
        "name": "ipython",
        "version": 3
      },
      "file_extension": ".py",
      "mimetype": "text/x-python",
      "name": "python",
      "nbconvert_exporter": "python",
      "pygments_lexer": "ipython3",
      "version": "3.7.0"
    },
    "colab": {
      "name": "NYC 311 Service Request Analysis.ipynb",
      "provenance": [],
      "collapsed_sections": [],
      "include_colab_link": true
    }
  },
  "cells": [
    {
      "cell_type": "markdown",
      "metadata": {
        "id": "view-in-github",
        "colab_type": "text"
      },
      "source": [
        "<a href=\"https://colab.research.google.com/github/Neha609/Python-Projects/blob/master/NYC_311_Service_Request_Analysis.ipynb\" target=\"_parent\"><img src=\"https://colab.research.google.com/assets/colab-badge.svg\" alt=\"Open In Colab\"/></a>"
      ]
    },
    {
      "cell_type": "markdown",
      "metadata": {
        "id": "QHQqXndysf9k"
      },
      "source": [
        "\n",
        "# **NYC 311 Service Request Analysis**\n",
        "\n",
        "You don't need to limit yourself to the number of rows/cells provided. You can add additional rows in each section to add more lines of code.\n",
        "\n",
        "**Happy coding!**"
      ]
    },
    {
      "cell_type": "markdown",
      "metadata": {
        "id": "PEVHi9hYsf9l"
      },
      "source": [
        "**Load 311 NYC Service Request data**"
      ]
    },
    {
      "cell_type": "code",
      "metadata": {
        "id": "RejHHGs7sf9n"
      },
      "source": [
        "#import the required libraries\n",
        "import numpy as np\n",
        "import pandas as pd\n",
        "import matplotlib as plt\n",
        "%matplotlib inline"
      ],
      "execution_count": null,
      "outputs": []
    },
    {
      "cell_type": "code",
      "metadata": {
        "id": "Um4RcSySsf9s"
      },
      "source": [
        "#Loading the Dataset\n",
        "dfService_req = pd.read_csv('311_Service_Requests_from_2010_to_Present.csv',low_memory=False)"
      ],
      "execution_count": null,
      "outputs": []
    },
    {
      "cell_type": "markdown",
      "metadata": {
        "collapsed": true,
        "id": "EjZ_MGBCsf9y"
      },
      "source": [
        "# Basic Data Exploratory Analysis"
      ]
    },
    {
      "cell_type": "code",
      "metadata": {
        "id": "TCii0-1Jsf9z",
        "outputId": "be465a80-5437-4bed-fda1-4e89babd1f5d"
      },
      "source": [
        "#View first 5 Records\n",
        "dfService_req.head()"
      ],
      "execution_count": null,
      "outputs": [
        {
          "output_type": "execute_result",
          "data": {
            "text/html": [
              "<div>\n",
              "<style scoped>\n",
              "    .dataframe tbody tr th:only-of-type {\n",
              "        vertical-align: middle;\n",
              "    }\n",
              "\n",
              "    .dataframe tbody tr th {\n",
              "        vertical-align: top;\n",
              "    }\n",
              "\n",
              "    .dataframe thead th {\n",
              "        text-align: right;\n",
              "    }\n",
              "</style>\n",
              "<table border=\"1\" class=\"dataframe\">\n",
              "  <thead>\n",
              "    <tr style=\"text-align: right;\">\n",
              "      <th></th>\n",
              "      <th>Unique Key</th>\n",
              "      <th>Created Date</th>\n",
              "      <th>Closed Date</th>\n",
              "      <th>Agency</th>\n",
              "      <th>Agency Name</th>\n",
              "      <th>Complaint Type</th>\n",
              "      <th>Descriptor</th>\n",
              "      <th>Location Type</th>\n",
              "      <th>Incident Zip</th>\n",
              "      <th>Incident Address</th>\n",
              "      <th>...</th>\n",
              "      <th>Bridge Highway Name</th>\n",
              "      <th>Bridge Highway Direction</th>\n",
              "      <th>Road Ramp</th>\n",
              "      <th>Bridge Highway Segment</th>\n",
              "      <th>Garage Lot Name</th>\n",
              "      <th>Ferry Direction</th>\n",
              "      <th>Ferry Terminal Name</th>\n",
              "      <th>Latitude</th>\n",
              "      <th>Longitude</th>\n",
              "      <th>Location</th>\n",
              "    </tr>\n",
              "  </thead>\n",
              "  <tbody>\n",
              "    <tr>\n",
              "      <th>0</th>\n",
              "      <td>32310363</td>\n",
              "      <td>12/31/2015 11:59:45 PM</td>\n",
              "      <td>01/01/2016 12:55:15 AM</td>\n",
              "      <td>NYPD</td>\n",
              "      <td>New York City Police Department</td>\n",
              "      <td>Noise - Street/Sidewalk</td>\n",
              "      <td>Loud Music/Party</td>\n",
              "      <td>Street/Sidewalk</td>\n",
              "      <td>10034.0</td>\n",
              "      <td>71 VERMILYEA AVENUE</td>\n",
              "      <td>...</td>\n",
              "      <td>NaN</td>\n",
              "      <td>NaN</td>\n",
              "      <td>NaN</td>\n",
              "      <td>NaN</td>\n",
              "      <td>NaN</td>\n",
              "      <td>NaN</td>\n",
              "      <td>NaN</td>\n",
              "      <td>40.865682</td>\n",
              "      <td>-73.923501</td>\n",
              "      <td>(40.86568153633767, -73.92350095571744)</td>\n",
              "    </tr>\n",
              "    <tr>\n",
              "      <th>1</th>\n",
              "      <td>32309934</td>\n",
              "      <td>12/31/2015 11:59:44 PM</td>\n",
              "      <td>01/01/2016 01:26:57 AM</td>\n",
              "      <td>NYPD</td>\n",
              "      <td>New York City Police Department</td>\n",
              "      <td>Blocked Driveway</td>\n",
              "      <td>No Access</td>\n",
              "      <td>Street/Sidewalk</td>\n",
              "      <td>11105.0</td>\n",
              "      <td>27-07 23 AVENUE</td>\n",
              "      <td>...</td>\n",
              "      <td>NaN</td>\n",
              "      <td>NaN</td>\n",
              "      <td>NaN</td>\n",
              "      <td>NaN</td>\n",
              "      <td>NaN</td>\n",
              "      <td>NaN</td>\n",
              "      <td>NaN</td>\n",
              "      <td>40.775945</td>\n",
              "      <td>-73.915094</td>\n",
              "      <td>(40.775945312321085, -73.91509393898605)</td>\n",
              "    </tr>\n",
              "    <tr>\n",
              "      <th>2</th>\n",
              "      <td>32309159</td>\n",
              "      <td>12/31/2015 11:59:29 PM</td>\n",
              "      <td>01/01/2016 04:51:03 AM</td>\n",
              "      <td>NYPD</td>\n",
              "      <td>New York City Police Department</td>\n",
              "      <td>Blocked Driveway</td>\n",
              "      <td>No Access</td>\n",
              "      <td>Street/Sidewalk</td>\n",
              "      <td>10458.0</td>\n",
              "      <td>2897 VALENTINE AVENUE</td>\n",
              "      <td>...</td>\n",
              "      <td>NaN</td>\n",
              "      <td>NaN</td>\n",
              "      <td>NaN</td>\n",
              "      <td>NaN</td>\n",
              "      <td>NaN</td>\n",
              "      <td>NaN</td>\n",
              "      <td>NaN</td>\n",
              "      <td>40.870325</td>\n",
              "      <td>-73.888525</td>\n",
              "      <td>(40.870324522111424, -73.88852464418646)</td>\n",
              "    </tr>\n",
              "    <tr>\n",
              "      <th>3</th>\n",
              "      <td>32305098</td>\n",
              "      <td>12/31/2015 11:57:46 PM</td>\n",
              "      <td>01/01/2016 07:43:13 AM</td>\n",
              "      <td>NYPD</td>\n",
              "      <td>New York City Police Department</td>\n",
              "      <td>Illegal Parking</td>\n",
              "      <td>Commercial Overnight Parking</td>\n",
              "      <td>Street/Sidewalk</td>\n",
              "      <td>10461.0</td>\n",
              "      <td>2940 BAISLEY AVENUE</td>\n",
              "      <td>...</td>\n",
              "      <td>NaN</td>\n",
              "      <td>NaN</td>\n",
              "      <td>NaN</td>\n",
              "      <td>NaN</td>\n",
              "      <td>NaN</td>\n",
              "      <td>NaN</td>\n",
              "      <td>NaN</td>\n",
              "      <td>40.835994</td>\n",
              "      <td>-73.828379</td>\n",
              "      <td>(40.83599404683083, -73.82837939584206)</td>\n",
              "    </tr>\n",
              "    <tr>\n",
              "      <th>4</th>\n",
              "      <td>32306529</td>\n",
              "      <td>12/31/2015 11:56:58 PM</td>\n",
              "      <td>01/01/2016 03:24:42 AM</td>\n",
              "      <td>NYPD</td>\n",
              "      <td>New York City Police Department</td>\n",
              "      <td>Illegal Parking</td>\n",
              "      <td>Blocked Sidewalk</td>\n",
              "      <td>Street/Sidewalk</td>\n",
              "      <td>11373.0</td>\n",
              "      <td>87-14 57 ROAD</td>\n",
              "      <td>...</td>\n",
              "      <td>NaN</td>\n",
              "      <td>NaN</td>\n",
              "      <td>NaN</td>\n",
              "      <td>NaN</td>\n",
              "      <td>NaN</td>\n",
              "      <td>NaN</td>\n",
              "      <td>NaN</td>\n",
              "      <td>40.733060</td>\n",
              "      <td>-73.874170</td>\n",
              "      <td>(40.733059618956815, -73.87416975810375)</td>\n",
              "    </tr>\n",
              "  </tbody>\n",
              "</table>\n",
              "<p>5 rows × 53 columns</p>\n",
              "</div>"
            ],
            "text/plain": [
              "   Unique Key            Created Date             Closed Date Agency  \\\n",
              "0    32310363  12/31/2015 11:59:45 PM  01/01/2016 12:55:15 AM   NYPD   \n",
              "1    32309934  12/31/2015 11:59:44 PM  01/01/2016 01:26:57 AM   NYPD   \n",
              "2    32309159  12/31/2015 11:59:29 PM  01/01/2016 04:51:03 AM   NYPD   \n",
              "3    32305098  12/31/2015 11:57:46 PM  01/01/2016 07:43:13 AM   NYPD   \n",
              "4    32306529  12/31/2015 11:56:58 PM  01/01/2016 03:24:42 AM   NYPD   \n",
              "\n",
              "                       Agency Name           Complaint Type  \\\n",
              "0  New York City Police Department  Noise - Street/Sidewalk   \n",
              "1  New York City Police Department         Blocked Driveway   \n",
              "2  New York City Police Department         Blocked Driveway   \n",
              "3  New York City Police Department          Illegal Parking   \n",
              "4  New York City Police Department          Illegal Parking   \n",
              "\n",
              "                     Descriptor    Location Type  Incident Zip  \\\n",
              "0              Loud Music/Party  Street/Sidewalk       10034.0   \n",
              "1                     No Access  Street/Sidewalk       11105.0   \n",
              "2                     No Access  Street/Sidewalk       10458.0   \n",
              "3  Commercial Overnight Parking  Street/Sidewalk       10461.0   \n",
              "4              Blocked Sidewalk  Street/Sidewalk       11373.0   \n",
              "\n",
              "        Incident Address                    ...                     \\\n",
              "0    71 VERMILYEA AVENUE                    ...                      \n",
              "1        27-07 23 AVENUE                    ...                      \n",
              "2  2897 VALENTINE AVENUE                    ...                      \n",
              "3    2940 BAISLEY AVENUE                    ...                      \n",
              "4          87-14 57 ROAD                    ...                      \n",
              "\n",
              "  Bridge Highway Name Bridge Highway Direction Road Ramp  \\\n",
              "0                 NaN                      NaN       NaN   \n",
              "1                 NaN                      NaN       NaN   \n",
              "2                 NaN                      NaN       NaN   \n",
              "3                 NaN                      NaN       NaN   \n",
              "4                 NaN                      NaN       NaN   \n",
              "\n",
              "  Bridge Highway Segment Garage Lot Name Ferry Direction Ferry Terminal Name  \\\n",
              "0                    NaN             NaN             NaN                 NaN   \n",
              "1                    NaN             NaN             NaN                 NaN   \n",
              "2                    NaN             NaN             NaN                 NaN   \n",
              "3                    NaN             NaN             NaN                 NaN   \n",
              "4                    NaN             NaN             NaN                 NaN   \n",
              "\n",
              "    Latitude  Longitude                                  Location  \n",
              "0  40.865682 -73.923501   (40.86568153633767, -73.92350095571744)  \n",
              "1  40.775945 -73.915094  (40.775945312321085, -73.91509393898605)  \n",
              "2  40.870325 -73.888525  (40.870324522111424, -73.88852464418646)  \n",
              "3  40.835994 -73.828379   (40.83599404683083, -73.82837939584206)  \n",
              "4  40.733060 -73.874170  (40.733059618956815, -73.87416975810375)  \n",
              "\n",
              "[5 rows x 53 columns]"
            ]
          },
          "metadata": {
            "tags": []
          },
          "execution_count": 4
        }
      ]
    },
    {
      "cell_type": "code",
      "metadata": {
        "id": "axOuJA0Qsf94",
        "outputId": "1673c860-a3e0-4e72-eb86-b78e4a233507"
      },
      "source": [
        "#View the Shape of DataSet\n",
        "dfService_req.shape"
      ],
      "execution_count": null,
      "outputs": [
        {
          "output_type": "execute_result",
          "data": {
            "text/plain": [
              "(364558, 53)"
            ]
          },
          "metadata": {
            "tags": []
          },
          "execution_count": 5
        }
      ]
    },
    {
      "cell_type": "code",
      "metadata": {
        "id": "LJipvWqHsf9-",
        "outputId": "771fdb87-cc0a-4d0c-cbae-3889e74be41b"
      },
      "source": [
        "#Find the Column Types\n",
        "dfService_req.dtypes"
      ],
      "execution_count": null,
      "outputs": [
        {
          "output_type": "execute_result",
          "data": {
            "text/plain": [
              "Unique Key                          int64\n",
              "Created Date                       object\n",
              "Closed Date                        object\n",
              "Agency                             object\n",
              "Agency Name                        object\n",
              "Complaint Type                     object\n",
              "Descriptor                         object\n",
              "Location Type                      object\n",
              "Incident Zip                      float64\n",
              "Incident Address                   object\n",
              "Street Name                        object\n",
              "Cross Street 1                     object\n",
              "Cross Street 2                     object\n",
              "Intersection Street 1              object\n",
              "Intersection Street 2              object\n",
              "Address Type                       object\n",
              "City                               object\n",
              "Landmark                           object\n",
              "Facility Type                      object\n",
              "Status                             object\n",
              "Due Date                           object\n",
              "Resolution Description             object\n",
              "Resolution Action Updated Date     object\n",
              "Community Board                    object\n",
              "Borough                            object\n",
              "X Coordinate (State Plane)        float64\n",
              "Y Coordinate (State Plane)        float64\n",
              "Park Facility Name                 object\n",
              "Park Borough                       object\n",
              "School Name                        object\n",
              "School Number                      object\n",
              "School Region                      object\n",
              "School Code                        object\n",
              "School Phone Number                object\n",
              "School Address                     object\n",
              "School City                        object\n",
              "School State                       object\n",
              "School Zip                         object\n",
              "School Not Found                   object\n",
              "School or Citywide Complaint      float64\n",
              "Vehicle Type                      float64\n",
              "Taxi Company Borough              float64\n",
              "Taxi Pick Up Location             float64\n",
              "Bridge Highway Name                object\n",
              "Bridge Highway Direction           object\n",
              "Road Ramp                          object\n",
              "Bridge Highway Segment             object\n",
              "Garage Lot Name                   float64\n",
              "Ferry Direction                    object\n",
              "Ferry Terminal Name                object\n",
              "Latitude                          float64\n",
              "Longitude                         float64\n",
              "Location                           object\n",
              "dtype: object"
            ]
          },
          "metadata": {
            "tags": []
          },
          "execution_count": 6
        }
      ]
    },
    {
      "cell_type": "code",
      "metadata": {
        "id": "WwuFhkAFsf-G",
        "outputId": "a8dce17b-7f7f-461b-a1f0-3fd9105c874a"
      },
      "source": [
        "#Describe the basic state of Dataset\n",
        "dfService_req.describe()"
      ],
      "execution_count": null,
      "outputs": [
        {
          "output_type": "execute_result",
          "data": {
            "text/html": [
              "<div>\n",
              "<style scoped>\n",
              "    .dataframe tbody tr th:only-of-type {\n",
              "        vertical-align: middle;\n",
              "    }\n",
              "\n",
              "    .dataframe tbody tr th {\n",
              "        vertical-align: top;\n",
              "    }\n",
              "\n",
              "    .dataframe thead th {\n",
              "        text-align: right;\n",
              "    }\n",
              "</style>\n",
              "<table border=\"1\" class=\"dataframe\">\n",
              "  <thead>\n",
              "    <tr style=\"text-align: right;\">\n",
              "      <th></th>\n",
              "      <th>Unique Key</th>\n",
              "      <th>Incident Zip</th>\n",
              "      <th>X Coordinate (State Plane)</th>\n",
              "      <th>Y Coordinate (State Plane)</th>\n",
              "      <th>School or Citywide Complaint</th>\n",
              "      <th>Vehicle Type</th>\n",
              "      <th>Taxi Company Borough</th>\n",
              "      <th>Taxi Pick Up Location</th>\n",
              "      <th>Garage Lot Name</th>\n",
              "      <th>Latitude</th>\n",
              "      <th>Longitude</th>\n",
              "    </tr>\n",
              "  </thead>\n",
              "  <tbody>\n",
              "    <tr>\n",
              "      <th>count</th>\n",
              "      <td>3.645580e+05</td>\n",
              "      <td>361560.000000</td>\n",
              "      <td>3.605280e+05</td>\n",
              "      <td>360528.000000</td>\n",
              "      <td>0.0</td>\n",
              "      <td>0.0</td>\n",
              "      <td>0.0</td>\n",
              "      <td>0.0</td>\n",
              "      <td>0.0</td>\n",
              "      <td>360528.000000</td>\n",
              "      <td>360528.000000</td>\n",
              "    </tr>\n",
              "    <tr>\n",
              "      <th>mean</th>\n",
              "      <td>3.106595e+07</td>\n",
              "      <td>10858.496659</td>\n",
              "      <td>1.005043e+06</td>\n",
              "      <td>203425.305782</td>\n",
              "      <td>NaN</td>\n",
              "      <td>NaN</td>\n",
              "      <td>NaN</td>\n",
              "      <td>NaN</td>\n",
              "      <td>NaN</td>\n",
              "      <td>40.724980</td>\n",
              "      <td>-73.924946</td>\n",
              "    </tr>\n",
              "    <tr>\n",
              "      <th>std</th>\n",
              "      <td>7.331531e+05</td>\n",
              "      <td>578.263114</td>\n",
              "      <td>2.196362e+04</td>\n",
              "      <td>29842.192857</td>\n",
              "      <td>NaN</td>\n",
              "      <td>NaN</td>\n",
              "      <td>NaN</td>\n",
              "      <td>NaN</td>\n",
              "      <td>NaN</td>\n",
              "      <td>0.081907</td>\n",
              "      <td>0.079213</td>\n",
              "    </tr>\n",
              "    <tr>\n",
              "      <th>min</th>\n",
              "      <td>2.960737e+07</td>\n",
              "      <td>83.000000</td>\n",
              "      <td>9.133570e+05</td>\n",
              "      <td>121185.000000</td>\n",
              "      <td>NaN</td>\n",
              "      <td>NaN</td>\n",
              "      <td>NaN</td>\n",
              "      <td>NaN</td>\n",
              "      <td>NaN</td>\n",
              "      <td>40.499040</td>\n",
              "      <td>-74.254937</td>\n",
              "    </tr>\n",
              "    <tr>\n",
              "      <th>25%</th>\n",
              "      <td>3.049938e+07</td>\n",
              "      <td>10314.000000</td>\n",
              "      <td>9.919460e+05</td>\n",
              "      <td>182945.000000</td>\n",
              "      <td>NaN</td>\n",
              "      <td>NaN</td>\n",
              "      <td>NaN</td>\n",
              "      <td>NaN</td>\n",
              "      <td>NaN</td>\n",
              "      <td>40.668742</td>\n",
              "      <td>-73.972253</td>\n",
              "    </tr>\n",
              "    <tr>\n",
              "      <th>50%</th>\n",
              "      <td>3.108795e+07</td>\n",
              "      <td>11209.000000</td>\n",
              "      <td>1.003470e+06</td>\n",
              "      <td>201023.000000</td>\n",
              "      <td>NaN</td>\n",
              "      <td>NaN</td>\n",
              "      <td>NaN</td>\n",
              "      <td>NaN</td>\n",
              "      <td>NaN</td>\n",
              "      <td>40.718406</td>\n",
              "      <td>-73.930643</td>\n",
              "    </tr>\n",
              "    <tr>\n",
              "      <th>75%</th>\n",
              "      <td>3.167433e+07</td>\n",
              "      <td>11238.000000</td>\n",
              "      <td>1.019134e+06</td>\n",
              "      <td>222790.000000</td>\n",
              "      <td>NaN</td>\n",
              "      <td>NaN</td>\n",
              "      <td>NaN</td>\n",
              "      <td>NaN</td>\n",
              "      <td>NaN</td>\n",
              "      <td>40.778166</td>\n",
              "      <td>-73.874098</td>\n",
              "    </tr>\n",
              "    <tr>\n",
              "      <th>max</th>\n",
              "      <td>3.231065e+07</td>\n",
              "      <td>11697.000000</td>\n",
              "      <td>1.067186e+06</td>\n",
              "      <td>271876.000000</td>\n",
              "      <td>NaN</td>\n",
              "      <td>NaN</td>\n",
              "      <td>NaN</td>\n",
              "      <td>NaN</td>\n",
              "      <td>NaN</td>\n",
              "      <td>40.912869</td>\n",
              "      <td>-73.700715</td>\n",
              "    </tr>\n",
              "  </tbody>\n",
              "</table>\n",
              "</div>"
            ],
            "text/plain": [
              "         Unique Key   Incident Zip  X Coordinate (State Plane)  \\\n",
              "count  3.645580e+05  361560.000000                3.605280e+05   \n",
              "mean   3.106595e+07   10858.496659                1.005043e+06   \n",
              "std    7.331531e+05     578.263114                2.196362e+04   \n",
              "min    2.960737e+07      83.000000                9.133570e+05   \n",
              "25%    3.049938e+07   10314.000000                9.919460e+05   \n",
              "50%    3.108795e+07   11209.000000                1.003470e+06   \n",
              "75%    3.167433e+07   11238.000000                1.019134e+06   \n",
              "max    3.231065e+07   11697.000000                1.067186e+06   \n",
              "\n",
              "       Y Coordinate (State Plane)  School or Citywide Complaint  Vehicle Type  \\\n",
              "count               360528.000000                           0.0           0.0   \n",
              "mean                203425.305782                           NaN           NaN   \n",
              "std                  29842.192857                           NaN           NaN   \n",
              "min                 121185.000000                           NaN           NaN   \n",
              "25%                 182945.000000                           NaN           NaN   \n",
              "50%                 201023.000000                           NaN           NaN   \n",
              "75%                 222790.000000                           NaN           NaN   \n",
              "max                 271876.000000                           NaN           NaN   \n",
              "\n",
              "       Taxi Company Borough  Taxi Pick Up Location  Garage Lot Name  \\\n",
              "count                   0.0                    0.0              0.0   \n",
              "mean                    NaN                    NaN              NaN   \n",
              "std                     NaN                    NaN              NaN   \n",
              "min                     NaN                    NaN              NaN   \n",
              "25%                     NaN                    NaN              NaN   \n",
              "50%                     NaN                    NaN              NaN   \n",
              "75%                     NaN                    NaN              NaN   \n",
              "max                     NaN                    NaN              NaN   \n",
              "\n",
              "            Latitude      Longitude  \n",
              "count  360528.000000  360528.000000  \n",
              "mean       40.724980     -73.924946  \n",
              "std         0.081907       0.079213  \n",
              "min        40.499040     -74.254937  \n",
              "25%        40.668742     -73.972253  \n",
              "50%        40.718406     -73.930643  \n",
              "75%        40.778166     -73.874098  \n",
              "max        40.912869     -73.700715  "
            ]
          },
          "metadata": {
            "tags": []
          },
          "execution_count": 7
        }
      ]
    },
    {
      "cell_type": "code",
      "metadata": {
        "id": "oHHywqgksf-K",
        "outputId": "666bb746-0dba-4fd2-82c8-f08f34db81b6"
      },
      "source": [
        "#Display the complaint type and city Together\n",
        "df_Complaint_city = dfService_req[['Complaint Type','City']]\n",
        "df_Complaint_city.head()"
      ],
      "execution_count": null,
      "outputs": [
        {
          "output_type": "execute_result",
          "data": {
            "text/html": [
              "<div>\n",
              "<style scoped>\n",
              "    .dataframe tbody tr th:only-of-type {\n",
              "        vertical-align: middle;\n",
              "    }\n",
              "\n",
              "    .dataframe tbody tr th {\n",
              "        vertical-align: top;\n",
              "    }\n",
              "\n",
              "    .dataframe thead th {\n",
              "        text-align: right;\n",
              "    }\n",
              "</style>\n",
              "<table border=\"1\" class=\"dataframe\">\n",
              "  <thead>\n",
              "    <tr style=\"text-align: right;\">\n",
              "      <th></th>\n",
              "      <th>Complaint Type</th>\n",
              "      <th>City</th>\n",
              "    </tr>\n",
              "  </thead>\n",
              "  <tbody>\n",
              "    <tr>\n",
              "      <th>0</th>\n",
              "      <td>Noise - Street/Sidewalk</td>\n",
              "      <td>NEW YORK</td>\n",
              "    </tr>\n",
              "    <tr>\n",
              "      <th>1</th>\n",
              "      <td>Blocked Driveway</td>\n",
              "      <td>ASTORIA</td>\n",
              "    </tr>\n",
              "    <tr>\n",
              "      <th>2</th>\n",
              "      <td>Blocked Driveway</td>\n",
              "      <td>BRONX</td>\n",
              "    </tr>\n",
              "    <tr>\n",
              "      <th>3</th>\n",
              "      <td>Illegal Parking</td>\n",
              "      <td>BRONX</td>\n",
              "    </tr>\n",
              "    <tr>\n",
              "      <th>4</th>\n",
              "      <td>Illegal Parking</td>\n",
              "      <td>ELMHURST</td>\n",
              "    </tr>\n",
              "  </tbody>\n",
              "</table>\n",
              "</div>"
            ],
            "text/plain": [
              "            Complaint Type      City\n",
              "0  Noise - Street/Sidewalk  NEW YORK\n",
              "1         Blocked Driveway   ASTORIA\n",
              "2         Blocked Driveway     BRONX\n",
              "3          Illegal Parking     BRONX\n",
              "4          Illegal Parking  ELMHURST"
            ]
          },
          "metadata": {
            "tags": []
          },
          "execution_count": 8
        }
      ]
    },
    {
      "cell_type": "markdown",
      "metadata": {
        "collapsed": true,
        "id": "gnjPE5Rfsf-R"
      },
      "source": [
        "# Finding Major Complaint Type"
      ]
    },
    {
      "cell_type": "code",
      "metadata": {
        "id": "E4Ty_i46sf-S",
        "outputId": "fe3ceae8-7f51-4a05-b46d-7849cb0835f2"
      },
      "source": [
        "#Find the top 10 Complaint Type\n",
        "df_counts = df_Complaint_city[['Complaint Type','City']].groupby(['Complaint Type'])['City']\\\n",
        ".count()\\\n",
        ".reset_index(name='Count')\\\n",
        ".sort_values(['Count'],ascending = False)\n",
        "\n",
        "df_counts.head(10)"
      ],
      "execution_count": null,
      "outputs": [
        {
          "output_type": "execute_result",
          "data": {
            "text/html": [
              "<div>\n",
              "<style scoped>\n",
              "    .dataframe tbody tr th:only-of-type {\n",
              "        vertical-align: middle;\n",
              "    }\n",
              "\n",
              "    .dataframe tbody tr th {\n",
              "        vertical-align: top;\n",
              "    }\n",
              "\n",
              "    .dataframe thead th {\n",
              "        text-align: right;\n",
              "    }\n",
              "</style>\n",
              "<table border=\"1\" class=\"dataframe\">\n",
              "  <thead>\n",
              "    <tr style=\"text-align: right;\">\n",
              "      <th></th>\n",
              "      <th>Complaint Type</th>\n",
              "      <th>Count</th>\n",
              "    </tr>\n",
              "  </thead>\n",
              "  <tbody>\n",
              "    <tr>\n",
              "      <th>4</th>\n",
              "      <td>Blocked Driveway</td>\n",
              "      <td>100548</td>\n",
              "    </tr>\n",
              "    <tr>\n",
              "      <th>12</th>\n",
              "      <td>Illegal Parking</td>\n",
              "      <td>91412</td>\n",
              "    </tr>\n",
              "    <tr>\n",
              "      <th>16</th>\n",
              "      <td>Noise - Street/Sidewalk</td>\n",
              "      <td>51054</td>\n",
              "    </tr>\n",
              "    <tr>\n",
              "      <th>13</th>\n",
              "      <td>Noise - Commercial</td>\n",
              "      <td>43687</td>\n",
              "    </tr>\n",
              "    <tr>\n",
              "      <th>5</th>\n",
              "      <td>Derelict Vehicle</td>\n",
              "      <td>21460</td>\n",
              "    </tr>\n",
              "    <tr>\n",
              "      <th>17</th>\n",
              "      <td>Noise - Vehicle</td>\n",
              "      <td>19294</td>\n",
              "    </tr>\n",
              "    <tr>\n",
              "      <th>1</th>\n",
              "      <td>Animal Abuse</td>\n",
              "      <td>10529</td>\n",
              "    </tr>\n",
              "    <tr>\n",
              "      <th>21</th>\n",
              "      <td>Traffic</td>\n",
              "      <td>5195</td>\n",
              "    </tr>\n",
              "    <tr>\n",
              "      <th>10</th>\n",
              "      <td>Homeless Encampment</td>\n",
              "      <td>4878</td>\n",
              "    </tr>\n",
              "    <tr>\n",
              "      <th>23</th>\n",
              "      <td>Vending</td>\n",
              "      <td>4185</td>\n",
              "    </tr>\n",
              "  </tbody>\n",
              "</table>\n",
              "</div>"
            ],
            "text/plain": [
              "             Complaint Type   Count\n",
              "4          Blocked Driveway  100548\n",
              "12          Illegal Parking   91412\n",
              "16  Noise - Street/Sidewalk   51054\n",
              "13       Noise - Commercial   43687\n",
              "5          Derelict Vehicle   21460\n",
              "17          Noise - Vehicle   19294\n",
              "1              Animal Abuse   10529\n",
              "21                  Traffic    5195\n",
              "10      Homeless Encampment    4878\n",
              "23                  Vending    4185"
            ]
          },
          "metadata": {
            "tags": []
          },
          "execution_count": 11
        }
      ]
    },
    {
      "cell_type": "code",
      "metadata": {
        "id": "vVdI8aLFsf-X",
        "outputId": "e44d0aa7-9a35-4507-ab03-15d86b0db59d"
      },
      "source": [
        "#Plotting bar graph of Count vs Complaint Types\n",
        "df_Top_10_Counts = df_counts.head(10)\n",
        "df_Top_10_Counts.plot.bar(x='Complaint Type', y= 'Count');"
      ],
      "execution_count": null,
      "outputs": [
        {
          "output_type": "display_data",
          "data": {
            "image/png": "[encoded data removed]",
            "text/plain": [
              "<Figure size 432x288 with 1 Axes>"
            ]
          },
          "metadata": {
            "tags": [],
            "needs_background": "light"
          }
        }
      ]
    },
    {
      "cell_type": "markdown",
      "metadata": {
        "collapsed": true,
        "id": "zEEa1xHQsf-b"
      },
      "source": [
        "# Visualise the Complaint Type"
      ]
    },
    {
      "cell_type": "code",
      "metadata": {
        "id": "Gjkyv9Sgsf-c",
        "outputId": "c0de7ac4-4f58-4a41-91dc-e4816e9e7b8f"
      },
      "source": [
        "#Display the major omplaint Type and their Counts\n",
        "df_counts.plot.bar(x='Complaint Type',y='Count');"
      ],
      "execution_count": null,
      "outputs": [
        {
          "output_type": "display_data",
          "data": {
            "image/png": "[encoded data removed]",
            "text/plain": [
              "<Figure size 432x288 with 1 Axes>"
            ]
          },
          "metadata": {
            "tags": [],
            "needs_background": "light"
          }
        }
      ]
    },
    {
      "cell_type": "code",
      "metadata": {
        "id": "lFPSbx7_sf-h"
      },
      "source": [
        ""
      ],
      "execution_count": null,
      "outputs": []
    }
  ]
}